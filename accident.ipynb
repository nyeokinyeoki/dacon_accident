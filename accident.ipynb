{
 "cells": [
  {
   "cell_type": "code",
   "execution_count": 2,
   "metadata": {},
   "outputs": [],
   "source": [
    "import sys\n",
    "import pandas as pd\n",
    "import numpy as np\n",
    "import geopandas as gpd"
   ]
  },
  {
   "cell_type": "code",
   "execution_count": 4,
   "metadata": {},
   "outputs": [
    {
     "name": "stdout",
     "output_type": "stream",
     "text": [
      "Python version : 3.11.3 | packaged by Anaconda, Inc. | (main, May 15 2023, 15:41:31) [MSC v.1916 64 bit (AMD64)]\n",
      "Numpy version : 1.26.2\n",
      "Pandas version : 2.1.3\n",
      "Geopandas version : 0.14.1\n"
     ]
    }
   ],
   "source": [
    "print(\"Python version :\", sys.version)\n",
    "print(\"Numpy version :\", np.__version__)\n",
    "print(\"Pandas version :\", pd.__version__)\n",
    "print(\"Geopandas version :\", gpd.__version__)"
   ]
  }
 ],
 "metadata": {
  "kernelspec": {
   "display_name": "accident",
   "language": "python",
   "name": "python3"
  },
  "language_info": {
   "codemirror_mode": {
    "name": "ipython",
    "version": 3
   },
   "file_extension": ".py",
   "mimetype": "text/x-python",
   "name": "python",
   "nbconvert_exporter": "python",
   "pygments_lexer": "ipython3",
   "version": "3.11.3"
  }
 },
 "nbformat": 4,
 "nbformat_minor": 2
}
